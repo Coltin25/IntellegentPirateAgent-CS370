{
 "cells": [
  {
   "cell_type": "markdown",
   "metadata": {},
   "source": [
    "# Treasure Hunt Game Notebook\n",
    "\n",
    "## Read and Review Your Starter Code\n",
    "The theme of this project is a popular treasure hunt game in which the player needs to find the treasure before the pirate does. While you will not be developing the entire game, you will write the part of the game that represents the intelligent agent, which is a pirate in this case. The pirate will try to find the optimal path to the treasure using deep Q-learning. \n",
    "\n",
    "You have been provided with two Python classes and this notebook to help you with this assignment. The first class, TreasureMaze.py, represents the environment, which includes a maze object defined as a matrix. The second class, GameExperience.py, stores the episodes – that is, all the states that come in between the initial state and the terminal state. This is later used by the agent for learning by experience, called \"exploration\". This notebook shows how to play a game. Your task is to complete the deep Q-learning implementation for which a skeleton implementation has been provided. The code blocks you will need to complete has #TODO as a header.\n",
    "\n",
    "First, read and review the next few code and instruction blocks to understand the code that you have been given."
   ]
  },
  {
   "cell_type": "code",
   "execution_count": 5,
   "metadata": {},
   "outputs": [],
   "source": [
    "from __future__ import print_function\n",
    "import os, sys, time, datetime, json, random\n",
    "import numpy as np\n",
    "from keras.models import Sequential\n",
    "from keras.layers.core import Dense, Activation\n",
    "from keras.optimizers import SGD , Adam, RMSprop\n",
    "from keras.layers.advanced_activations import PReLU\n",
    "import matplotlib.pyplot as plt\n",
    "from TreasureMaze import TreasureMaze\n",
    "from GameExperience import GameExperience\n",
    "%matplotlib inline"
   ]
  },
  {
   "cell_type": "markdown",
   "metadata": {},
   "source": [
    "The following code block contains an 8x8 matrix that will be used as a maze object:"
   ]
  },
  {
   "cell_type": "code",
   "execution_count": 7,
   "metadata": {},
   "outputs": [],
   "source": [
    "maze = np.array([\n",
    "    [ 1.,  0.,  1.,  1.,  1.,  1.,  1.,  1.],\n",
    "    [ 1.,  0.,  1.,  1.,  1.,  0.,  1.,  1.],\n",
    "    [ 1.,  1.,  1.,  1.,  0.,  1.,  0.,  1.],\n",
    "    [ 1.,  1.,  1.,  0.,  1.,  1.,  1.,  1.],\n",
    "    [ 1.,  1.,  0.,  1.,  1.,  1.,  1.,  1.],\n",
    "    [ 1.,  1.,  1.,  0.,  1.,  0.,  0.,  0.],\n",
    "    [ 1.,  1.,  1.,  0.,  1.,  1.,  1.,  1.],\n",
    "    [ 1.,  1.,  1.,  1.,  0.,  1.,  1.,  1.]\n",
    "])"
   ]
  },
  {
   "cell_type": "markdown",
   "metadata": {},
   "source": [
    "This helper function allows a visual representation of the maze object:"
   ]
  },
  {
   "cell_type": "code",
   "execution_count": 9,
   "metadata": {},
   "outputs": [],
   "source": [
    "def show(qmaze):\n",
    "    plt.grid('on')\n",
    "    nrows, ncols = qmaze.maze.shape\n",
    "    ax = plt.gca()\n",
    "    ax.set_xticks(np.arange(0.5, nrows, 1))\n",
    "    ax.set_yticks(np.arange(0.5, ncols, 1))\n",
    "    ax.set_xticklabels([])\n",
    "    ax.set_yticklabels([])\n",
    "    canvas = np.copy(qmaze.maze)\n",
    "    for row,col in qmaze.visited:\n",
    "        canvas[row,col] = 0.6\n",
    "    pirate_row, pirate_col, _ = qmaze.state\n",
    "    canvas[pirate_row, pirate_col] = 0.3   # pirate cell\n",
    "    canvas[nrows-1, ncols-1] = 0.9 # treasure cell\n",
    "    img = plt.imshow(canvas, interpolation='none', cmap='gray')\n",
    "    return img"
   ]
  },
  {
   "cell_type": "markdown",
   "metadata": {},
   "source": [
    "The pirate agent can move in four directions: left, right, up, and down. \n",
    "\n",
    "While the agent primarily learns by experience through exploitation, often, the agent can choose to explore the environment to find previously undiscovered paths. This is called \"exploration\" and is defined by epsilon. This value is typically a lower value such as 0.1, which means for every ten attempts, the agent will attempt to learn by experience nine times and will randomly explore a new path one time. You are encouraged to try various values for the exploration factor and see how the algorithm performs."
   ]
  },
  {
   "cell_type": "code",
   "execution_count": 11,
   "metadata": {},
   "outputs": [],
   "source": [
    "LEFT = 0\n",
    "UP = 1\n",
    "RIGHT = 2\n",
    "DOWN = 3\n",
    "\n",
    "\n",
    "# Exploration factor\n",
    "epsilon = 0.1\n",
    "\n",
    "# Actions dictionary\n",
    "actions_dict = {\n",
    "    LEFT: 'left',\n",
    "    UP: 'up',\n",
    "    RIGHT: 'right',\n",
    "    DOWN: 'down',\n",
    "}\n",
    "\n",
    "num_actions = len(actions_dict)\n"
   ]
  },
  {
   "cell_type": "markdown",
   "metadata": {},
   "source": [
    "The sample code block and output below show creating a maze object and performing one action (DOWN), which returns the reward. The resulting updated environment is visualized."
   ]
  },
  {
   "cell_type": "code",
   "execution_count": 13,
   "metadata": {},
   "outputs": [
    {
     "name": "stdout",
     "output_type": "stream",
     "text": [
      "reward= -0.04\n"
     ]
    },
    {
     "data": {
      "text/plain": [
       "<matplotlib.image.AxesImage at 0x1a97acfaa88>"
      ]
     },
     "execution_count": 13,
     "metadata": {},
     "output_type": "execute_result"
    },
    {
     "data": {
      "image/png": "[encoded data removed]",
      "text/plain": [
       "<Figure size 432x288 with 1 Axes>"
      ]
     },
     "metadata": {
      "needs_background": "light"
     },
     "output_type": "display_data"
    }
   ],
   "source": [
    "qmaze = TreasureMaze(maze)\n",
    "canvas, reward, game_over = qmaze.act(DOWN)\n",
    "print(\"reward=\", reward)\n",
    "show(qmaze)"
   ]
  },
  {
   "cell_type": "markdown",
   "metadata": {},
   "source": [
    "This function simulates a full game based on the provided trained model. The other parameters include the TreasureMaze object and the starting position of the pirate."
   ]
  },
  {
   "cell_type": "code",
   "execution_count": 15,
   "metadata": {},
   "outputs": [],
   "source": [
    "def play_game(model, qmaze, pirate_cell):\n",
    "    qmaze.reset(pirate_cell)\n",
    "    envstate = qmaze.observe()\n",
    "    while True:\n",
    "        prev_envstate = envstate\n",
    "        # get next action\n",
    "        q = model.predict(prev_envstate)\n",
    "        action = np.argmax(q[0])\n",
    "\n",
    "        # apply action, get rewards and new state\n",
    "        envstate, reward, game_status = qmaze.act(action)\n",
    "        if game_status == 'win':\n",
    "            return True\n",
    "        elif game_status == 'lose':\n",
    "            return False"
   ]
  },
  {
   "cell_type": "markdown",
   "metadata": {},
   "source": [
    "This function helps you to determine whether the pirate can win any game at all. If your maze is not well designed, the pirate may not win any game at all. In this case, your training would not yield any result. The provided maze in this notebook ensures that there is a path to win and you can run this method to check."
   ]
  },
  {
   "cell_type": "code",
   "execution_count": 17,
   "metadata": {},
   "outputs": [],
   "source": [
    "def completion_check(model, qmaze):\n",
    "    for cell in qmaze.free_cells:\n",
    "        if not qmaze.valid_actions(cell):\n",
    "            return False\n",
    "        if not play_game(model, qmaze, cell):\n",
    "            return False\n",
    "    return True"
   ]
  },
  {
   "cell_type": "markdown",
   "metadata": {},
   "source": [
    "The code you have been given in this block will build the neural network model. Review the code and note the number of layers, as well as the activation, optimizer, and loss functions that are used to train the model."
   ]
  },
  {
   "cell_type": "code",
   "execution_count": 19,
   "metadata": {},
   "outputs": [],
   "source": [
    "def build_model(maze):\n",
    "    model = Sequential()\n",
    "    model.add(Dense(maze.size, input_shape=(maze.size,)))\n",
    "    model.add(PReLU())\n",
    "    model.add(Dense(maze.size))\n",
    "    model.add(PReLU())\n",
    "    model.add(Dense(num_actions))\n",
    "    model.compile(optimizer='adam', loss='mse')\n",
    "    return model"
   ]
  },
  {
   "cell_type": "markdown",
   "metadata": {},
   "source": [
    "# #TODO: Complete the Q-Training Algorithm Code Block\n",
    "\n",
    "This is your deep Q-learning implementation. The goal of your deep Q-learning implementation is to find the best possible navigation sequence that results in reaching the treasure cell while maximizing the reward. In your implementation, you need to determine the optimal number of epochs to achieve a 100% win rate.\n",
    "\n",
    "You will need to complete the section starting with #pseudocode. The pseudocode has been included for you."
   ]
  },
  {
   "cell_type": "code",
   "execution_count": 21,
   "metadata": {},
   "outputs": [],
   "source": [
    "def qtrain(model, maze, **opt):\n",
    "    global epsilon \n",
    "    n_epoch = opt.get('epochs', 15000)\n",
    "    max_memory = opt.get('max_memory', 1000)\n",
    "    data_size = opt.get('data_size', 50)\n",
    "    start_time = datetime.datetime.now()\n",
    "\n",
    "    qmaze = TreasureMaze(maze)\n",
    "    experience = GameExperience(model, max_memory=max_memory)\n",
    "    \n",
    "    win_history = []\n",
    "    hsize = qmaze.maze.size // 2\n",
    "    win_rate = 0.0\n",
    "\n",
    "    for epoch in range(n_epoch):\n",
    "        loss = 0.0\n",
    "        n_episodes = 0\n",
    "\n",
    "        agent_cell = random.choice(qmaze.free_cells)\n",
    "        qmaze.reset(agent_cell)\n",
    "        envstate = qmaze.observe()\n",
    "\n",
    "        while True:\n",
    "            prev_envstate = envstate\n",
    "            if np.random.rand() < epsilon:\n",
    "                action = np.random.choice(num_actions)  # exploration\n",
    "            else:\n",
    "                q_values = model.predict(prev_envstate)\n",
    "                action = np.argmax(q_values[0])  # exploitation\n",
    "\n",
    "            envstate, reward, game_status = qmaze.act(action)\n",
    "\n",
    "            episode = [prev_envstate, action, reward, envstate, game_status]\n",
    "            experience.remember(episode)\n",
    "\n",
    "            inputs, targets = experience.get_data(data_size=data_size)\n",
    "            history = model.fit(inputs, targets, epochs=1, verbose=0)\n",
    "            loss = history.history['loss'][0]\n",
    "\n",
    "            n_episodes += 1\n",
    "            if game_status in ('win', 'lose'):\n",
    "                win_history.append(1 if game_status == 'win' else 0)\n",
    "                break\n",
    "\n",
    "        if len(win_history) > hsize:\n",
    "            win_rate = sum(win_history[-hsize:]) / hsize\n",
    "\n",
    "        dt = datetime.datetime.now() - start_time\n",
    "        t = format_time(dt.total_seconds())\n",
    "        print(\"Epoch: {:03d}/{:d} | Loss: {:.4f} | Episodes: {:d} | Win count: {:d} | Win rate: {:.3f} | time: {}\"\n",
    "              .format(epoch, n_epoch-1, loss, n_episodes, sum(win_history), win_rate, t))\n",
    "\n",
    "        if win_rate > 0.9:\n",
    "            epsilon = 0.05\n",
    "        if sum(win_history[-hsize:]) == hsize and completion_check(model, qmaze):\n",
    "            print(\"Reached 100% win rate at epoch: {}\".format(epoch))\n",
    "            break\n",
    "\n",
    "    dt = datetime.datetime.now() - start_time\n",
    "    t = format_time(dt.total_seconds())\n",
    "    print(\"n_epoch: %d, max_mem: %d, data: %d, time: %s\" % (epoch, max_memory, data_size, t))\n",
    "    return dt.total_seconds()\n"
   ]
  },
  {
   "cell_type": "markdown",
   "metadata": {},
   "source": [
    "## Test Your Model\n",
    "\n",
    "Now we will start testing the deep Q-learning implementation. To begin, select **Cell**, then **Run All** from the menu bar. This will run your notebook. As it runs, you should see output begin to appear beneath the next few cells. The code below creates an instance of TreasureMaze."
   ]
  },
  {
   "cell_type": "code",
   "execution_count": 23,
   "metadata": {},
   "outputs": [
    {
     "data": {
      "text/plain": [
       "<matplotlib.image.AxesImage at 0x1a902ca7748>"
      ]
     },
     "execution_count": 23,
     "metadata": {},
     "output_type": "execute_result"
    },
    {
     "data": {
      "image/png": "[encoded data removed]",
      "text/plain": [
       "<Figure size 432x288 with 1 Axes>"
      ]
     },
     "metadata": {
      "needs_background": "light"
     },
     "output_type": "display_data"
    }
   ],
   "source": [
    "qmaze = TreasureMaze(maze)\n",
    "show(qmaze)"
   ]
  },
  {
   "cell_type": "markdown",
   "metadata": {},
   "source": [
    "In the next code block, you will build your model and train it using deep Q-learning. Note: This step takes several minutes to fully run."
   ]
  },
  {
   "cell_type": "code",
   "execution_count": 25,
   "metadata": {},
   "outputs": [
    {
     "name": "stdout",
     "output_type": "stream",
     "text": [
      "Epoch: 000/999 | Loss: 0.0000 | Episodes: 131 | Win count: 0 | Win rate: 0.000 | time: 9.31 sec\n",
      "Epoch: 001/999 | Loss: 0.0004 | Episodes: 96 | Win count: 1 | Win rate: 0.000 | time: 15.74 sec\n",
      "Epoch: 002/999 | Loss: 0.0010 | Episodes: 136 | Win count: 1 | Win rate: 0.000 | time: 24.14 sec\n",
      "Epoch: 003/999 | Loss: 0.0003 | Episodes: 135 | Win count: 1 | Win rate: 0.000 | time: 33.03 sec\n",
      "Epoch: 004/999 | Loss: 0.0004 | Episodes: 134 | Win count: 1 | Win rate: 0.000 | time: 42.61 sec\n",
      "Epoch: 005/999 | Loss: 0.0008 | Episodes: 136 | Win count: 1 | Win rate: 0.000 | time: 51.48 sec\n",
      "Epoch: 006/999 | Loss: 0.0007 | Episodes: 141 | Win count: 1 | Win rate: 0.000 | time: 1.02 min\n",
      "Epoch: 007/999 | Loss: 0.0007 | Episodes: 94 | Win count: 2 | Win rate: 0.000 | time: 1.13 min\n",
      "Epoch: 008/999 | Loss: 0.0011 | Episodes: 134 | Win count: 2 | Win rate: 0.000 | time: 1.28 min\n",
      "Epoch: 009/999 | Loss: 0.0009 | Episodes: 137 | Win count: 2 | Win rate: 0.000 | time: 1.44 min\n",
      "Epoch: 010/999 | Loss: 0.0019 | Episodes: 134 | Win count: 2 | Win rate: 0.000 | time: 1.59 min\n",
      "Epoch: 011/999 | Loss: 0.0001 | Episodes: 134 | Win count: 2 | Win rate: 0.000 | time: 1.74 min\n",
      "Epoch: 012/999 | Loss: 0.0001 | Episodes: 134 | Win count: 2 | Win rate: 0.000 | time: 1.90 min\n",
      "Epoch: 013/999 | Loss: 0.0003 | Episodes: 133 | Win count: 2 | Win rate: 0.000 | time: 2.05 min\n",
      "Epoch: 014/999 | Loss: 0.0013 | Episodes: 144 | Win count: 2 | Win rate: 0.000 | time: 2.22 min\n",
      "Epoch: 015/999 | Loss: 0.0012 | Episodes: 145 | Win count: 2 | Win rate: 0.000 | time: 2.38 min\n",
      "Epoch: 016/999 | Loss: 0.0005 | Episodes: 135 | Win count: 2 | Win rate: 0.000 | time: 2.52 min\n",
      "Epoch: 017/999 | Loss: 0.0008 | Episodes: 136 | Win count: 2 | Win rate: 0.000 | time: 2.68 min\n",
      "Epoch: 018/999 | Loss: 0.0012 | Episodes: 143 | Win count: 2 | Win rate: 0.000 | time: 2.83 min\n",
      "Epoch: 019/999 | Loss: 0.0004 | Episodes: 134 | Win count: 2 | Win rate: 0.000 | time: 2.98 min\n",
      "Epoch: 020/999 | Loss: 0.0008 | Episodes: 134 | Win count: 2 | Win rate: 0.000 | time: 3.13 min\n",
      "Epoch: 021/999 | Loss: 0.0008 | Episodes: 135 | Win count: 2 | Win rate: 0.000 | time: 3.28 min\n",
      "Epoch: 022/999 | Loss: 0.0002 | Episodes: 132 | Win count: 2 | Win rate: 0.000 | time: 3.43 min\n",
      "Epoch: 023/999 | Loss: 0.0003 | Episodes: 134 | Win count: 2 | Win rate: 0.000 | time: 3.59 min\n",
      "Epoch: 024/999 | Loss: 0.0004 | Episodes: 131 | Win count: 2 | Win rate: 0.000 | time: 3.74 min\n",
      "Epoch: 025/999 | Loss: 0.0002 | Episodes: 139 | Win count: 2 | Win rate: 0.000 | time: 3.90 min\n",
      "Epoch: 026/999 | Loss: 0.0005 | Episodes: 131 | Win count: 2 | Win rate: 0.000 | time: 4.06 min\n",
      "Epoch: 027/999 | Loss: 0.0006 | Episodes: 140 | Win count: 2 | Win rate: 0.000 | time: 4.21 min\n",
      "Epoch: 028/999 | Loss: 0.0007 | Episodes: 139 | Win count: 2 | Win rate: 0.000 | time: 4.35 min\n",
      "Epoch: 029/999 | Loss: 0.0010 | Episodes: 16 | Win count: 3 | Win rate: 0.000 | time: 4.37 min\n",
      "Epoch: 030/999 | Loss: 0.0010 | Episodes: 150 | Win count: 3 | Win rate: 0.000 | time: 4.52 min\n",
      "Epoch: 031/999 | Loss: 0.0011 | Episodes: 39 | Win count: 4 | Win rate: 0.000 | time: 4.56 min\n",
      "Epoch: 032/999 | Loss: 0.0015 | Episodes: 145 | Win count: 4 | Win rate: 0.125 | time: 4.72 min\n",
      "Epoch: 033/999 | Loss: 0.0013 | Episodes: 140 | Win count: 4 | Win rate: 0.094 | time: 4.85 min\n",
      "Epoch: 034/999 | Loss: 0.0007 | Episodes: 144 | Win count: 4 | Win rate: 0.094 | time: 5.02 min\n",
      "Epoch: 035/999 | Loss: 0.0006 | Episodes: 134 | Win count: 4 | Win rate: 0.094 | time: 5.17 min\n",
      "Epoch: 036/999 | Loss: 0.0002 | Episodes: 134 | Win count: 4 | Win rate: 0.094 | time: 5.32 min\n",
      "Epoch: 037/999 | Loss: 0.0007 | Episodes: 133 | Win count: 4 | Win rate: 0.094 | time: 5.47 min\n",
      "Epoch: 038/999 | Loss: 0.0007 | Episodes: 1 | Win count: 5 | Win rate: 0.125 | time: 5.47 min\n",
      "Epoch: 039/999 | Loss: 0.0003 | Episodes: 143 | Win count: 5 | Win rate: 0.094 | time: 5.64 min\n",
      "Epoch: 040/999 | Loss: 0.0013 | Episodes: 144 | Win count: 5 | Win rate: 0.094 | time: 5.80 min\n",
      "Epoch: 041/999 | Loss: 0.0009 | Episodes: 145 | Win count: 5 | Win rate: 0.094 | time: 5.96 min\n",
      "Epoch: 042/999 | Loss: 0.0011 | Episodes: 150 | Win count: 5 | Win rate: 0.094 | time: 6.13 min\n",
      "Epoch: 043/999 | Loss: 0.0012 | Episodes: 132 | Win count: 5 | Win rate: 0.094 | time: 6.29 min\n",
      "Epoch: 044/999 | Loss: 0.0009 | Episodes: 136 | Win count: 5 | Win rate: 0.094 | time: 6.44 min\n",
      "Epoch: 045/999 | Loss: 0.0009 | Episodes: 142 | Win count: 5 | Win rate: 0.094 | time: 6.60 min\n",
      "Epoch: 046/999 | Loss: 0.0004 | Episodes: 2 | Win count: 6 | Win rate: 0.125 | time: 6.60 min\n",
      "Epoch: 047/999 | Loss: 0.0025 | Episodes: 141 | Win count: 6 | Win rate: 0.125 | time: 6.76 min\n",
      "Epoch: 048/999 | Loss: 0.0015 | Episodes: 147 | Win count: 6 | Win rate: 0.125 | time: 6.93 min\n",
      "Epoch: 049/999 | Loss: 0.0006 | Episodes: 139 | Win count: 6 | Win rate: 0.125 | time: 7.08 min\n",
      "Epoch: 050/999 | Loss: 0.0006 | Episodes: 52 | Win count: 7 | Win rate: 0.156 | time: 7.14 min\n",
      "Epoch: 051/999 | Loss: 0.0010 | Episodes: 4 | Win count: 8 | Win rate: 0.188 | time: 7.15 min\n",
      "Epoch: 052/999 | Loss: 0.0006 | Episodes: 144 | Win count: 8 | Win rate: 0.188 | time: 7.32 min\n",
      "Epoch: 053/999 | Loss: 0.0006 | Episodes: 109 | Win count: 9 | Win rate: 0.219 | time: 7.44 min\n",
      "Epoch: 054/999 | Loss: 0.0003 | Episodes: 135 | Win count: 9 | Win rate: 0.219 | time: 7.59 min\n",
      "Epoch: 055/999 | Loss: 0.0003 | Episodes: 137 | Win count: 9 | Win rate: 0.219 | time: 7.74 min\n",
      "Epoch: 056/999 | Loss: 0.0004 | Episodes: 2 | Win count: 10 | Win rate: 0.250 | time: 7.74 min\n",
      "Epoch: 057/999 | Loss: 0.0014 | Episodes: 134 | Win count: 10 | Win rate: 0.250 | time: 7.89 min\n",
      "Epoch: 058/999 | Loss: 0.0001 | Episodes: 141 | Win count: 10 | Win rate: 0.250 | time: 8.05 min\n",
      "Epoch: 059/999 | Loss: 0.0010 | Episodes: 150 | Win count: 10 | Win rate: 0.250 | time: 8.22 min\n",
      "Epoch: 060/999 | Loss: 0.0013 | Episodes: 134 | Win count: 10 | Win rate: 0.250 | time: 8.37 min\n",
      "Epoch: 061/999 | Loss: 0.0008 | Episodes: 142 | Win count: 10 | Win rate: 0.219 | time: 8.54 min\n",
      "Epoch: 062/999 | Loss: 0.0008 | Episodes: 145 | Win count: 10 | Win rate: 0.219 | time: 8.71 min\n",
      "Epoch: 063/999 | Loss: 0.0008 | Episodes: 137 | Win count: 10 | Win rate: 0.188 | time: 8.88 min\n",
      "Epoch: 064/999 | Loss: 0.0012 | Episodes: 142 | Win count: 10 | Win rate: 0.188 | time: 9.04 min\n",
      "Epoch: 065/999 | Loss: 0.0007 | Episodes: 3 | Win count: 11 | Win rate: 0.219 | time: 9.04 min\n",
      "Epoch: 066/999 | Loss: 0.0005 | Episodes: 2 | Win count: 12 | Win rate: 0.250 | time: 9.05 min\n",
      "Epoch: 067/999 | Loss: 0.0005 | Episodes: 131 | Win count: 12 | Win rate: 0.250 | time: 9.19 min\n",
      "Epoch: 068/999 | Loss: 0.0010 | Episodes: 150 | Win count: 12 | Win rate: 0.250 | time: 9.33 min\n",
      "Epoch: 069/999 | Loss: 0.0012 | Episodes: 136 | Win count: 12 | Win rate: 0.250 | time: 9.47 min\n",
      "Epoch: 070/999 | Loss: 0.0009 | Episodes: 148 | Win count: 12 | Win rate: 0.219 | time: 9.63 min\n",
      "Epoch: 071/999 | Loss: 0.0012 | Episodes: 150 | Win count: 12 | Win rate: 0.219 | time: 9.80 min\n",
      "Epoch: 072/999 | Loss: 0.0012 | Episodes: 4 | Win count: 13 | Win rate: 0.250 | time: 9.80 min\n",
      "Epoch: 073/999 | Loss: 0.0016 | Episodes: 152 | Win count: 13 | Win rate: 0.250 | time: 9.98 min\n",
      "Epoch: 074/999 | Loss: 0.0018 | Episodes: 49 | Win count: 14 | Win rate: 0.281 | time: 10.03 min\n",
      "Epoch: 075/999 | Loss: 0.0024 | Episodes: 25 | Win count: 15 | Win rate: 0.312 | time: 10.06 min\n",
      "Epoch: 076/999 | Loss: 0.0016 | Episodes: 144 | Win count: 16 | Win rate: 0.344 | time: 10.23 min\n",
      "Epoch: 077/999 | Loss: 0.0013 | Episodes: 4 | Win count: 17 | Win rate: 0.375 | time: 10.24 min\n",
      "Epoch: 078/999 | Loss: 0.0024 | Episodes: 110 | Win count: 18 | Win rate: 0.375 | time: 10.36 min\n",
      "Epoch: 079/999 | Loss: 0.0015 | Episodes: 102 | Win count: 19 | Win rate: 0.406 | time: 10.48 min\n",
      "Epoch: 080/999 | Loss: 0.0017 | Episodes: 35 | Win count: 20 | Win rate: 0.438 | time: 10.52 min\n",
      "Epoch: 081/999 | Loss: 0.0013 | Episodes: 31 | Win count: 21 | Win rate: 0.469 | time: 10.55 min\n",
      "Epoch: 082/999 | Loss: 0.0019 | Episodes: 25 | Win count: 22 | Win rate: 0.469 | time: 10.58 min\n",
      "Epoch: 083/999 | Loss: 0.0014 | Episodes: 8 | Win count: 23 | Win rate: 0.469 | time: 10.59 min\n",
      "Epoch: 084/999 | Loss: 0.0012 | Episodes: 30 | Win count: 24 | Win rate: 0.500 | time: 10.62 min\n",
      "Epoch: 085/999 | Loss: 0.0007 | Episodes: 139 | Win count: 24 | Win rate: 0.469 | time: 10.78 min\n",
      "Epoch: 086/999 | Loss: 0.0014 | Episodes: 24 | Win count: 25 | Win rate: 0.500 | time: 10.81 min\n",
      "Epoch: 087/999 | Loss: 0.0013 | Episodes: 21 | Win count: 26 | Win rate: 0.531 | time: 10.84 min\n",
      "Epoch: 088/999 | Loss: 0.0016 | Episodes: 23 | Win count: 27 | Win rate: 0.531 | time: 10.86 min\n",
      "Epoch: 089/999 | Loss: 0.0008 | Episodes: 31 | Win count: 28 | Win rate: 0.562 | time: 10.89 min\n",
      "Epoch: 090/999 | Loss: 0.0016 | Episodes: 9 | Win count: 29 | Win rate: 0.594 | time: 10.90 min\n",
      "Epoch: 091/999 | Loss: 0.0016 | Episodes: 97 | Win count: 30 | Win rate: 0.625 | time: 11.01 min\n",
      "Epoch: 092/999 | Loss: 0.0015 | Episodes: 17 | Win count: 31 | Win rate: 0.656 | time: 11.03 min\n",
      "Epoch: 093/999 | Loss: 0.0013 | Episodes: 25 | Win count: 32 | Win rate: 0.688 | time: 11.06 min\n",
      "Epoch: 094/999 | Loss: 0.0013 | Episodes: 15 | Win count: 33 | Win rate: 0.719 | time: 11.07 min\n",
      "Epoch: 095/999 | Loss: 0.0013 | Episodes: 22 | Win count: 34 | Win rate: 0.750 | time: 11.10 min\n",
      "Epoch: 096/999 | Loss: 0.0010 | Episodes: 112 | Win count: 35 | Win rate: 0.781 | time: 11.23 min\n",
      "Epoch: 097/999 | Loss: 0.0016 | Episodes: 3 | Win count: 36 | Win rate: 0.781 | time: 11.23 min\n",
      "Epoch: 098/999 | Loss: 0.0010 | Episodes: 28 | Win count: 37 | Win rate: 0.781 | time: 11.26 min\n",
      "Epoch: 099/999 | Loss: 0.0009 | Episodes: 1 | Win count: 38 | Win rate: 0.812 | time: 11.26 min\n",
      "Epoch: 100/999 | Loss: 0.0010 | Episodes: 10 | Win count: 39 | Win rate: 0.844 | time: 11.27 min\n",
      "Epoch: 101/999 | Loss: 0.0008 | Episodes: 1 | Win count: 40 | Win rate: 0.875 | time: 11.28 min\n",
      "Epoch: 102/999 | Loss: 0.0009 | Episodes: 21 | Win count: 41 | Win rate: 0.906 | time: 11.30 min\n",
      "Epoch: 103/999 | Loss: 0.0009 | Episodes: 26 | Win count: 42 | Win rate: 0.938 | time: 11.33 min\n",
      "Epoch: 104/999 | Loss: 0.0009 | Episodes: 19 | Win count: 43 | Win rate: 0.938 | time: 11.35 min\n",
      "Epoch: 105/999 | Loss: 0.0015 | Episodes: 147 | Win count: 44 | Win rate: 0.969 | time: 11.51 min\n",
      "Epoch: 106/999 | Loss: 0.0014 | Episodes: 23 | Win count: 45 | Win rate: 0.969 | time: 11.53 min\n",
      "Epoch: 107/999 | Loss: 0.0018 | Episodes: 28 | Win count: 46 | Win rate: 0.969 | time: 11.56 min\n",
      "Epoch: 108/999 | Loss: 0.0009 | Episodes: 15 | Win count: 47 | Win rate: 0.969 | time: 11.58 min\n",
      "Epoch: 109/999 | Loss: 0.0017 | Episodes: 21 | Win count: 48 | Win rate: 0.969 | time: 11.60 min\n",
      "Epoch: 110/999 | Loss: 0.0005 | Episodes: 10 | Win count: 49 | Win rate: 0.969 | time: 11.61 min\n",
      "Epoch: 111/999 | Loss: 0.0012 | Episodes: 9 | Win count: 50 | Win rate: 0.969 | time: 11.62 min\n",
      "Epoch: 112/999 | Loss: 0.0006 | Episodes: 15 | Win count: 51 | Win rate: 0.969 | time: 11.64 min\n",
      "Epoch: 113/999 | Loss: 0.0005 | Episodes: 124 | Win count: 52 | Win rate: 0.969 | time: 11.78 min\n",
      "Epoch: 114/999 | Loss: 0.0010 | Episodes: 34 | Win count: 53 | Win rate: 0.969 | time: 11.82 min\n",
      "Epoch: 115/999 | Loss: 0.0005 | Episodes: 21 | Win count: 54 | Win rate: 0.969 | time: 11.84 min\n",
      "Epoch: 116/999 | Loss: 0.0011 | Episodes: 27 | Win count: 55 | Win rate: 0.969 | time: 11.88 min\n",
      "Epoch: 117/999 | Loss: 0.0014 | Episodes: 31 | Win count: 56 | Win rate: 1.000 | time: 11.91 min\n",
      "Epoch: 118/999 | Loss: 0.0019 | Episodes: 1 | Win count: 57 | Win rate: 1.000 | time: 11.92 min\n",
      "Epoch: 119/999 | Loss: 0.0013 | Episodes: 24 | Win count: 58 | Win rate: 1.000 | time: 11.95 min\n",
      "Epoch: 120/999 | Loss: 0.0009 | Episodes: 25 | Win count: 59 | Win rate: 1.000 | time: 11.98 min\n",
      "Epoch: 121/999 | Loss: 0.0009 | Episodes: 41 | Win count: 60 | Win rate: 1.000 | time: 12.03 min\n",
      "Epoch: 122/999 | Loss: 0.0007 | Episodes: 3 | Win count: 61 | Win rate: 1.000 | time: 12.04 min\n",
      "Epoch: 123/999 | Loss: 0.0009 | Episodes: 21 | Win count: 62 | Win rate: 1.000 | time: 12.06 min\n",
      "Epoch: 124/999 | Loss: 0.0012 | Episodes: 5 | Win count: 63 | Win rate: 1.000 | time: 12.07 min\n",
      "Epoch: 125/999 | Loss: 0.0012 | Episodes: 16 | Win count: 64 | Win rate: 1.000 | time: 12.09 min\n",
      "Epoch: 126/999 | Loss: 0.0007 | Episodes: 6 | Win count: 65 | Win rate: 1.000 | time: 12.10 min\n",
      "Epoch: 127/999 | Loss: 0.0006 | Episodes: 31 | Win count: 66 | Win rate: 1.000 | time: 12.14 min\n",
      "Epoch: 128/999 | Loss: 0.0005 | Episodes: 35 | Win count: 67 | Win rate: 1.000 | time: 12.18 min\n",
      "Epoch: 129/999 | Loss: 0.0010 | Episodes: 4 | Win count: 68 | Win rate: 1.000 | time: 12.19 min\n",
      "Epoch: 130/999 | Loss: 0.0015 | Episodes: 2 | Win count: 69 | Win rate: 1.000 | time: 12.19 min\n",
      "Epoch: 131/999 | Loss: 0.0010 | Episodes: 4 | Win count: 70 | Win rate: 1.000 | time: 12.20 min\n",
      "Epoch: 132/999 | Loss: 0.0011 | Episodes: 29 | Win count: 71 | Win rate: 1.000 | time: 12.23 min\n",
      "Epoch: 133/999 | Loss: 0.0016 | Episodes: 18 | Win count: 72 | Win rate: 1.000 | time: 12.25 min\n",
      "Epoch: 134/999 | Loss: 0.0005 | Episodes: 148 | Win count: 73 | Win rate: 1.000 | time: 12.42 min\n",
      "Epoch: 135/999 | Loss: 0.0009 | Episodes: 11 | Win count: 74 | Win rate: 1.000 | time: 12.43 min\n",
      "Epoch: 136/999 | Loss: 0.0010 | Episodes: 31 | Win count: 75 | Win rate: 1.000 | time: 12.47 min\n",
      "Epoch: 137/999 | Loss: 0.0006 | Episodes: 14 | Win count: 76 | Win rate: 1.000 | time: 12.48 min\n",
      "Epoch: 138/999 | Loss: 0.0009 | Episodes: 22 | Win count: 77 | Win rate: 1.000 | time: 12.51 min\n",
      "Epoch: 139/999 | Loss: 0.0003 | Episodes: 16 | Win count: 78 | Win rate: 1.000 | time: 12.53 min\n",
      "Epoch: 140/999 | Loss: 0.0009 | Episodes: 30 | Win count: 79 | Win rate: 1.000 | time: 12.57 min\n",
      "Epoch: 141/999 | Loss: 0.0005 | Episodes: 31 | Win count: 80 | Win rate: 1.000 | time: 12.60 min\n",
      "Epoch: 142/999 | Loss: 0.0002 | Episodes: 26 | Win count: 81 | Win rate: 1.000 | time: 12.64 min\n",
      "Epoch: 143/999 | Loss: 0.0007 | Episodes: 20 | Win count: 82 | Win rate: 1.000 | time: 12.66 min\n",
      "Epoch: 144/999 | Loss: 0.0004 | Episodes: 32 | Win count: 83 | Win rate: 1.000 | time: 12.70 min\n",
      "Epoch: 145/999 | Loss: 0.0003 | Episodes: 12 | Win count: 84 | Win rate: 1.000 | time: 12.71 min\n",
      "Epoch: 146/999 | Loss: 0.0007 | Episodes: 27 | Win count: 85 | Win rate: 1.000 | time: 12.74 min\n",
      "Epoch: 147/999 | Loss: 0.0003 | Episodes: 23 | Win count: 86 | Win rate: 1.000 | time: 12.77 min\n",
      "Epoch: 148/999 | Loss: 0.0005 | Episodes: 22 | Win count: 87 | Win rate: 1.000 | time: 12.80 min\n",
      "Epoch: 149/999 | Loss: 0.0006 | Episodes: 54 | Win count: 88 | Win rate: 1.000 | time: 12.86 min\n",
      "Epoch: 150/999 | Loss: 0.0002 | Episodes: 24 | Win count: 89 | Win rate: 1.000 | time: 12.89 min\n",
      "Epoch: 151/999 | Loss: 0.0004 | Episodes: 21 | Win count: 90 | Win rate: 1.000 | time: 12.92 min\n",
      "Epoch: 152/999 | Loss: 0.0002 | Episodes: 28 | Win count: 91 | Win rate: 1.000 | time: 12.95 min\n",
      "Epoch: 153/999 | Loss: 0.0009 | Episodes: 2 | Win count: 92 | Win rate: 1.000 | time: 12.96 min\n",
      "Epoch: 154/999 | Loss: 0.0011 | Episodes: 22 | Win count: 93 | Win rate: 1.000 | time: 12.98 min\n",
      "Epoch: 155/999 | Loss: 0.0004 | Episodes: 1 | Win count: 94 | Win rate: 1.000 | time: 12.98 min\n",
      "Epoch: 156/999 | Loss: 0.0004 | Episodes: 53 | Win count: 95 | Win rate: 1.000 | time: 13.05 min\n",
      "Epoch: 157/999 | Loss: 0.0004 | Episodes: 25 | Win count: 96 | Win rate: 1.000 | time: 13.07 min\n",
      "Epoch: 158/999 | Loss: 0.0006 | Episodes: 129 | Win count: 97 | Win rate: 1.000 | time: 13.22 min\n",
      "Epoch: 159/999 | Loss: 0.0001 | Episodes: 21 | Win count: 98 | Win rate: 1.000 | time: 13.25 min\n",
      "Epoch: 160/999 | Loss: 0.0001 | Episodes: 69 | Win count: 99 | Win rate: 1.000 | time: 13.33 min\n",
      "Epoch: 161/999 | Loss: 0.0004 | Episodes: 13 | Win count: 100 | Win rate: 1.000 | time: 13.35 min\n",
      "Epoch: 162/999 | Loss: 0.0002 | Episodes: 20 | Win count: 101 | Win rate: 1.000 | time: 13.38 min\n",
      "Epoch: 163/999 | Loss: 0.0001 | Episodes: 5 | Win count: 102 | Win rate: 1.000 | time: 13.39 min\n",
      "Epoch: 164/999 | Loss: 0.0003 | Episodes: 10 | Win count: 103 | Win rate: 1.000 | time: 13.40 min\n",
      "Epoch: 165/999 | Loss: 0.0005 | Episodes: 12 | Win count: 104 | Win rate: 1.000 | time: 13.42 min\n",
      "Epoch: 166/999 | Loss: 0.0003 | Episodes: 15 | Win count: 105 | Win rate: 1.000 | time: 13.44 min\n",
      "Epoch: 167/999 | Loss: 0.0002 | Episodes: 14 | Win count: 106 | Win rate: 1.000 | time: 13.46 min\n",
      "Epoch: 168/999 | Loss: 0.0001 | Episodes: 11 | Win count: 107 | Win rate: 1.000 | time: 13.48 min\n",
      "Epoch: 169/999 | Loss: 0.0005 | Episodes: 4 | Win count: 108 | Win rate: 1.000 | time: 13.50 min\n",
      "Epoch: 170/999 | Loss: 0.0002 | Episodes: 21 | Win count: 109 | Win rate: 1.000 | time: 13.52 min\n",
      "Epoch: 171/999 | Loss: 0.0001 | Episodes: 26 | Win count: 110 | Win rate: 1.000 | time: 13.56 min\n",
      "Epoch: 172/999 | Loss: 0.0001 | Episodes: 23 | Win count: 111 | Win rate: 1.000 | time: 13.59 min\n",
      "Epoch: 173/999 | Loss: 0.0001 | Episodes: 26 | Win count: 112 | Win rate: 1.000 | time: 13.62 min\n",
      "Epoch: 174/999 | Loss: 0.0005 | Episodes: 1 | Win count: 113 | Win rate: 1.000 | time: 13.63 min\n",
      "Epoch: 175/999 | Loss: 0.0012 | Episodes: 12 | Win count: 114 | Win rate: 1.000 | time: 13.64 min\n",
      "Epoch: 176/999 | Loss: 0.0004 | Episodes: 13 | Win count: 115 | Win rate: 1.000 | time: 13.67 min\n",
      "Epoch: 177/999 | Loss: 0.0001 | Episodes: 24 | Win count: 116 | Win rate: 1.000 | time: 13.71 min\n",
      "Epoch: 178/999 | Loss: 0.0001 | Episodes: 3 | Win count: 117 | Win rate: 1.000 | time: 13.71 min\n",
      "Epoch: 179/999 | Loss: 0.0003 | Episodes: 12 | Win count: 118 | Win rate: 1.000 | time: 13.73 min\n",
      "Epoch: 180/999 | Loss: 0.0002 | Episodes: 25 | Win count: 119 | Win rate: 1.000 | time: 13.76 min\n",
      "Epoch: 181/999 | Loss: 0.0007 | Episodes: 18 | Win count: 120 | Win rate: 1.000 | time: 13.78 min\n",
      "Epoch: 182/999 | Loss: 0.0001 | Episodes: 16 | Win count: 121 | Win rate: 1.000 | time: 13.81 min\n",
      "Epoch: 183/999 | Loss: 0.0006 | Episodes: 28 | Win count: 122 | Win rate: 1.000 | time: 13.85 min\n",
      "Epoch: 184/999 | Loss: 0.0007 | Episodes: 8 | Win count: 123 | Win rate: 1.000 | time: 13.86 min\n",
      "Epoch: 185/999 | Loss: 0.0005 | Episodes: 25 | Win count: 124 | Win rate: 1.000 | time: 13.89 min\n",
      "Epoch: 186/999 | Loss: 0.0001 | Episodes: 18 | Win count: 125 | Win rate: 1.000 | time: 13.92 min\n",
      "Epoch: 187/999 | Loss: 0.0005 | Episodes: 14 | Win count: 126 | Win rate: 1.000 | time: 13.94 min\n",
      "Epoch: 188/999 | Loss: 0.0001 | Episodes: 22 | Win count: 127 | Win rate: 1.000 | time: 13.97 min\n",
      "Epoch: 189/999 | Loss: 0.0001 | Episodes: 9 | Win count: 128 | Win rate: 1.000 | time: 13.99 min\n",
      "Epoch: 190/999 | Loss: 0.0004 | Episodes: 28 | Win count: 129 | Win rate: 1.000 | time: 14.03 min\n",
      "Epoch: 191/999 | Loss: 0.0001 | Episodes: 7 | Win count: 130 | Win rate: 1.000 | time: 14.05 min\n",
      "Epoch: 192/999 | Loss: 0.0003 | Episodes: 7 | Win count: 131 | Win rate: 1.000 | time: 14.06 min\n",
      "Epoch: 193/999 | Loss: 0.0002 | Episodes: 17 | Win count: 132 | Win rate: 1.000 | time: 14.08 min\n",
      "Epoch: 194/999 | Loss: 0.0003 | Episodes: 3 | Win count: 133 | Win rate: 1.000 | time: 14.08 min\n",
      "Epoch: 195/999 | Loss: 0.0004 | Episodes: 7 | Win count: 134 | Win rate: 1.000 | time: 14.09 min\n",
      "Epoch: 196/999 | Loss: 0.0002 | Episodes: 20 | Win count: 135 | Win rate: 1.000 | time: 14.11 min\n",
      "Epoch: 197/999 | Loss: 0.0001 | Episodes: 22 | Win count: 136 | Win rate: 1.000 | time: 14.15 min\n",
      "Epoch: 198/999 | Loss: 0.0003 | Episodes: 25 | Win count: 137 | Win rate: 1.000 | time: 14.19 min\n",
      "Epoch: 199/999 | Loss: 0.0000 | Episodes: 14 | Win count: 138 | Win rate: 1.000 | time: 14.22 min\n",
      "Epoch: 200/999 | Loss: 0.0000 | Episodes: 17 | Win count: 139 | Win rate: 1.000 | time: 14.25 min\n",
      "Epoch: 201/999 | Loss: 0.0001 | Episodes: 22 | Win count: 140 | Win rate: 1.000 | time: 14.28 min\n",
      "Epoch: 202/999 | Loss: 0.0001 | Episodes: 7 | Win count: 141 | Win rate: 1.000 | time: 14.29 min\n",
      "Epoch: 203/999 | Loss: 0.0002 | Episodes: 9 | Win count: 142 | Win rate: 1.000 | time: 14.30 min\n",
      "Epoch: 204/999 | Loss: 0.0002 | Episodes: 23 | Win count: 143 | Win rate: 1.000 | time: 14.33 min\n",
      "Epoch: 205/999 | Loss: 0.0003 | Episodes: 54 | Win count: 144 | Win rate: 1.000 | time: 14.44 min\n",
      "Epoch: 206/999 | Loss: 0.0006 | Episodes: 25 | Win count: 145 | Win rate: 1.000 | time: 14.48 min\n",
      "Epoch: 207/999 | Loss: 0.0001 | Episodes: 24 | Win count: 146 | Win rate: 1.000 | time: 14.50 min\n",
      "Epoch: 208/999 | Loss: 0.0003 | Episodes: 97 | Win count: 147 | Win rate: 1.000 | time: 14.61 min\n",
      "Epoch: 209/999 | Loss: 0.0007 | Episodes: 29 | Win count: 148 | Win rate: 1.000 | time: 14.64 min\n",
      "Epoch: 210/999 | Loss: 0.0006 | Episodes: 39 | Win count: 149 | Win rate: 1.000 | time: 14.68 min\n",
      "Epoch: 211/999 | Loss: 0.0010 | Episodes: 2 | Win count: 150 | Win rate: 1.000 | time: 14.69 min\n",
      "Epoch: 212/999 | Loss: 0.0006 | Episodes: 8 | Win count: 151 | Win rate: 1.000 | time: 14.70 min\n",
      "Epoch: 213/999 | Loss: 0.0005 | Episodes: 24 | Win count: 152 | Win rate: 1.000 | time: 14.73 min\n",
      "Epoch: 214/999 | Loss: 0.0006 | Episodes: 36 | Win count: 153 | Win rate: 1.000 | time: 14.77 min\n",
      "Epoch: 215/999 | Loss: 0.0003 | Episodes: 4 | Win count: 154 | Win rate: 1.000 | time: 14.77 min\n",
      "Epoch: 216/999 | Loss: 0.0006 | Episodes: 30 | Win count: 155 | Win rate: 1.000 | time: 14.81 min\n",
      "Epoch: 217/999 | Loss: 0.0006 | Episodes: 32 | Win count: 156 | Win rate: 1.000 | time: 14.85 min\n",
      "Epoch: 218/999 | Loss: 0.0013 | Episodes: 11 | Win count: 157 | Win rate: 1.000 | time: 14.87 min\n",
      "Epoch: 219/999 | Loss: 0.0011 | Episodes: 19 | Win count: 158 | Win rate: 1.000 | time: 14.89 min\n",
      "Epoch: 220/999 | Loss: 0.0010 | Episodes: 14 | Win count: 159 | Win rate: 1.000 | time: 14.91 min\n",
      "Epoch: 221/999 | Loss: 0.0011 | Episodes: 70 | Win count: 160 | Win rate: 1.000 | time: 14.99 min\n",
      "Epoch: 222/999 | Loss: 0.0013 | Episodes: 14 | Win count: 161 | Win rate: 1.000 | time: 15.01 min\n",
      "Epoch: 223/999 | Loss: 0.0008 | Episodes: 50 | Win count: 162 | Win rate: 1.000 | time: 15.07 min\n",
      "Epoch: 224/999 | Loss: 0.0013 | Episodes: 1 | Win count: 163 | Win rate: 1.000 | time: 15.08 min\n",
      "Epoch: 225/999 | Loss: 0.0006 | Episodes: 5 | Win count: 164 | Win rate: 1.000 | time: 15.08 min\n",
      "Epoch: 226/999 | Loss: 0.0011 | Episodes: 24 | Win count: 165 | Win rate: 1.000 | time: 15.11 min\n",
      "Epoch: 227/999 | Loss: 0.0010 | Episodes: 4 | Win count: 166 | Win rate: 1.000 | time: 15.12 min\n",
      "Epoch: 228/999 | Loss: 0.0014 | Episodes: 21 | Win count: 167 | Win rate: 1.000 | time: 15.15 min\n",
      "Epoch: 229/999 | Loss: 0.0008 | Episodes: 7 | Win count: 168 | Win rate: 1.000 | time: 15.16 min\n",
      "Epoch: 230/999 | Loss: 0.0009 | Episodes: 19 | Win count: 169 | Win rate: 1.000 | time: 15.18 min\n",
      "Epoch: 231/999 | Loss: 0.0006 | Episodes: 23 | Win count: 170 | Win rate: 1.000 | time: 15.21 min\n",
      "Epoch: 232/999 | Loss: 0.0008 | Episodes: 15 | Win count: 171 | Win rate: 1.000 | time: 15.23 min\n",
      "Epoch: 233/999 | Loss: 0.0003 | Episodes: 18 | Win count: 172 | Win rate: 1.000 | time: 15.26 min\n",
      "Epoch: 234/999 | Loss: 0.0006 | Episodes: 7 | Win count: 173 | Win rate: 1.000 | time: 15.27 min\n",
      "Epoch: 235/999 | Loss: 0.0008 | Episodes: 21 | Win count: 174 | Win rate: 1.000 | time: 15.30 min\n",
      "Epoch: 236/999 | Loss: 0.0007 | Episodes: 5 | Win count: 175 | Win rate: 1.000 | time: 15.31 min\n",
      "Epoch: 237/999 | Loss: 0.0008 | Episodes: 30 | Win count: 176 | Win rate: 1.000 | time: 15.35 min\n",
      "Epoch: 238/999 | Loss: 0.0011 | Episodes: 75 | Win count: 177 | Win rate: 1.000 | time: 15.43 min\n",
      "Epoch: 239/999 | Loss: 0.0005 | Episodes: 15 | Win count: 178 | Win rate: 1.000 | time: 15.46 min\n",
      "Epoch: 240/999 | Loss: 0.0003 | Episodes: 13 | Win count: 179 | Win rate: 1.000 | time: 15.48 min\n",
      "Epoch: 241/999 | Loss: 0.0007 | Episodes: 27 | Win count: 180 | Win rate: 1.000 | time: 15.52 min\n",
      "Epoch: 242/999 | Loss: 0.0009 | Episodes: 29 | Win count: 181 | Win rate: 1.000 | time: 15.55 min\n",
      "Epoch: 243/999 | Loss: 0.0009 | Episodes: 73 | Win count: 182 | Win rate: 1.000 | time: 15.64 min\n",
      "Epoch: 244/999 | Loss: 0.0008 | Episodes: 19 | Win count: 183 | Win rate: 1.000 | time: 15.66 min\n",
      "Epoch: 245/999 | Loss: 0.0009 | Episodes: 35 | Win count: 184 | Win rate: 1.000 | time: 15.71 min\n",
      "Epoch: 246/999 | Loss: 0.0012 | Episodes: 29 | Win count: 185 | Win rate: 1.000 | time: 15.75 min\n",
      "Epoch: 247/999 | Loss: 0.0007 | Episodes: 18 | Win count: 186 | Win rate: 1.000 | time: 15.77 min\n",
      "Epoch: 248/999 | Loss: 0.0006 | Episodes: 19 | Win count: 187 | Win rate: 1.000 | time: 15.79 min\n",
      "Epoch: 249/999 | Loss: 0.0005 | Episodes: 7 | Win count: 188 | Win rate: 1.000 | time: 15.80 min\n",
      "Epoch: 250/999 | Loss: 0.0013 | Episodes: 30 | Win count: 189 | Win rate: 1.000 | time: 15.84 min\n",
      "Epoch: 251/999 | Loss: 0.0011 | Episodes: 26 | Win count: 190 | Win rate: 1.000 | time: 15.87 min\n",
      "Epoch: 252/999 | Loss: 0.0012 | Episodes: 7 | Win count: 191 | Win rate: 1.000 | time: 15.88 min\n",
      "Epoch: 253/999 | Loss: 0.0009 | Episodes: 41 | Win count: 192 | Win rate: 1.000 | time: 15.93 min\n",
      "Epoch: 254/999 | Loss: 0.0006 | Episodes: 17 | Win count: 193 | Win rate: 1.000 | time: 15.95 min\n",
      "Epoch: 255/999 | Loss: 0.0004 | Episodes: 24 | Win count: 194 | Win rate: 1.000 | time: 15.98 min\n",
      "Epoch: 256/999 | Loss: 0.0009 | Episodes: 29 | Win count: 195 | Win rate: 1.000 | time: 16.02 min\n",
      "Epoch: 257/999 | Loss: 0.0016 | Episodes: 3 | Win count: 196 | Win rate: 1.000 | time: 16.03 min\n",
      "Epoch: 258/999 | Loss: 0.0038 | Episodes: 1 | Win count: 197 | Win rate: 1.000 | time: 16.03 min\n",
      "Epoch: 259/999 | Loss: 0.0009 | Episodes: 40 | Win count: 198 | Win rate: 1.000 | time: 16.08 min\n",
      "Epoch: 260/999 | Loss: 0.0013 | Episodes: 30 | Win count: 199 | Win rate: 1.000 | time: 16.12 min\n",
      "Epoch: 261/999 | Loss: 0.0008 | Episodes: 10 | Win count: 200 | Win rate: 1.000 | time: 16.13 min\n",
      "Epoch: 262/999 | Loss: 0.0011 | Episodes: 8 | Win count: 201 | Win rate: 1.000 | time: 16.14 min\n",
      "Epoch: 263/999 | Loss: 0.0007 | Episodes: 14 | Win count: 202 | Win rate: 1.000 | time: 16.16 min\n",
      "Epoch: 264/999 | Loss: 0.0012 | Episodes: 2 | Win count: 203 | Win rate: 1.000 | time: 16.17 min\n",
      "Epoch: 265/999 | Loss: 0.0008 | Episodes: 35 | Win count: 204 | Win rate: 1.000 | time: 16.21 min\n",
      "Epoch: 266/999 | Loss: 0.0008 | Episodes: 17 | Win count: 205 | Win rate: 1.000 | time: 16.23 min\n",
      "Epoch: 267/999 | Loss: 0.0009 | Episodes: 22 | Win count: 206 | Win rate: 1.000 | time: 16.25 min\n",
      "Epoch: 268/999 | Loss: 0.0008 | Episodes: 23 | Win count: 207 | Win rate: 1.000 | time: 16.28 min\n",
      "Epoch: 269/999 | Loss: 0.0010 | Episodes: 7 | Win count: 208 | Win rate: 1.000 | time: 16.28 min\n",
      "Epoch: 270/999 | Loss: 0.0007 | Episodes: 47 | Win count: 209 | Win rate: 1.000 | time: 16.34 min\n",
      "Epoch: 271/999 | Loss: 0.0004 | Episodes: 45 | Win count: 210 | Win rate: 1.000 | time: 16.39 min\n",
      "Epoch: 272/999 | Loss: 0.0013 | Episodes: 52 | Win count: 211 | Win rate: 1.000 | time: 16.45 min\n",
      "Epoch: 273/999 | Loss: 0.0014 | Episodes: 2 | Win count: 212 | Win rate: 1.000 | time: 16.46 min\n",
      "Epoch: 274/999 | Loss: 0.0017 | Episodes: 8 | Win count: 213 | Win rate: 1.000 | time: 16.47 min\n",
      "Epoch: 275/999 | Loss: 0.0019 | Episodes: 12 | Win count: 214 | Win rate: 1.000 | time: 16.48 min\n",
      "Epoch: 276/999 | Loss: 0.0021 | Episodes: 2 | Win count: 215 | Win rate: 1.000 | time: 16.49 min\n",
      "Epoch: 277/999 | Loss: 0.0009 | Episodes: 36 | Win count: 216 | Win rate: 1.000 | time: 16.53 min\n",
      "Epoch: 278/999 | Loss: 0.0014 | Episodes: 19 | Win count: 217 | Win rate: 1.000 | time: 16.55 min\n",
      "Epoch: 279/999 | Loss: 0.0010 | Episodes: 26 | Win count: 218 | Win rate: 1.000 | time: 16.59 min\n",
      "Epoch: 280/999 | Loss: 0.0006 | Episodes: 42 | Win count: 219 | Win rate: 1.000 | time: 16.63 min\n",
      "Epoch: 281/999 | Loss: 0.0012 | Episodes: 8 | Win count: 220 | Win rate: 1.000 | time: 16.65 min\n",
      "Epoch: 282/999 | Loss: 0.0007 | Episodes: 2 | Win count: 221 | Win rate: 1.000 | time: 16.65 min\n",
      "Reached 100% win rate at epoch: 282\n",
      "n_epoch: 282, max_mem: 512, data: 32, time: 16.66 min\n"
     ]
    },
    {
     "data": {
      "text/plain": [
       "999.568592"
      ]
     },
     "execution_count": 25,
     "metadata": {},
     "output_type": "execute_result"
    }
   ],
   "source": [
    "def format_time(seconds):\n",
    "    \"\"\"Formats time in seconds to a readable string.\"\"\"\n",
    "    if seconds < 60:\n",
    "        return \"%.2f sec\" % seconds\n",
    "    elif seconds < 3600:\n",
    "        return \"%.2f min\" % (seconds / 60)\n",
    "    else:\n",
    "        return \"%.2f hr\" % (seconds / 3600)\n",
    "\n",
    "model = build_model(maze)\n",
    "qtrain(model, maze, epochs=1000, max_memory=8*maze.size, data_size=32)"
   ]
  },
  {
   "cell_type": "markdown",
   "metadata": {},
   "source": [
    "This cell will check to see if the model passes the completion check. Note: This could take several minutes."
   ]
  },
  {
   "cell_type": "code",
   "execution_count": 27,
   "metadata": {},
   "outputs": [
    {
     "data": {
      "text/plain": [
       "<matplotlib.image.AxesImage at 0x1a90320ea88>"
      ]
     },
     "execution_count": 27,
     "metadata": {},
     "output_type": "execute_result"
    },
    {
     "data": {
      "image/png": "[encoded data removed]",
      "text/plain": [
       "<Figure size 432x288 with 1 Axes>"
      ]
     },
     "metadata": {
      "needs_background": "light"
     },
     "output_type": "display_data"
    }
   ],
   "source": [
    "completion_check(model, qmaze)\n",
    "show(qmaze)"
   ]
  },
  {
   "cell_type": "markdown",
   "metadata": {},
   "source": [
    "This cell will test your model for one game. It will start the pirate at the top-left corner and run play_game. The agent should find a path from the starting position to the target (treasure). The treasure is located in the bottom-right corner."
   ]
  },
  {
   "cell_type": "code",
   "execution_count": 29,
   "metadata": {},
   "outputs": [
    {
     "data": {
      "text/plain": [
       "<matplotlib.image.AxesImage at 0x1a9031dd2c8>"
      ]
     },
     "execution_count": 29,
     "metadata": {},
     "output_type": "execute_result"
    },
    {
     "data": {
      "image/png": "[encoded data removed]",
      "text/plain": [
       "<Figure size 432x288 with 1 Axes>"
      ]
     },
     "metadata": {
      "needs_background": "light"
     },
     "output_type": "display_data"
    }
   ],
   "source": [
    "pirate_start = (0, 0)\n",
    "play_game(model, qmaze, pirate_start)\n",
    "show(qmaze)"
   ]
  },
  {
   "cell_type": "markdown",
   "metadata": {},
   "source": [
    "## Save and Submit Your Work\n",
    "After you have finished creating the code for your notebook, save your work. Make sure that your notebook contains your name in the filename (e.g. Doe_Jane_ProjectTwo.ipynb). This will help your instructor access and grade your work easily. Download a copy of your IPYNB file and submit it to Brightspace. Refer to the Jupyter Notebook in Apporto Tutorial if you need help with these tasks."
   ]
  },
  {
   "cell_type": "code",
   "execution_count": null,
   "metadata": {},
   "outputs": [],
   "source": []
  },
  {
   "cell_type": "code",
   "execution_count": null,
   "metadata": {},
   "outputs": [],
   "source": []
  },
  {
   "cell_type": "code",
   "execution_count": null,
   "metadata": {},
   "outputs": [],
   "source": []
  },
  {
   "cell_type": "code",
   "execution_count": null,
   "metadata": {},
   "outputs": [],
   "source": []
  }
 ],
 "metadata": {
  "kernelspec": {
   "display_name": "Python 3",
   "language": "python",
   "name": "python3"
  },
  "language_info": {
   "codemirror_mode": {
    "name": "ipython",
    "version": 3
   },
   "file_extension": ".py",
   "mimetype": "text/x-python",
   "name": "python",
   "nbconvert_exporter": "python",
   "pygments_lexer": "ipython3",
   "version": "3.7.4"
  }
 },
 "nbformat": 4,
 "nbformat_minor": 2
}
